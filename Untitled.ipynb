{
 "cells": [
  {
   "cell_type": "code",
   "execution_count": 1,
   "id": "e9ea64bc-7497-4fc1-bd36-9463958298ea",
   "metadata": {},
   "outputs": [],
   "source": [
    "import pandas as pd\n",
    "import numpy as np\n",
    "import seaborn as sns\n",
    "import matplotlib.pyplot as plt"
   ]
  },
  {
   "cell_type": "code",
   "execution_count": 114,
   "id": "9d33411f-f658-443d-b5a1-c013febfa484",
   "metadata": {},
   "outputs": [],
   "source": [
    "wa=pd.read_csv('cleaned_startup.csv')"
   ]
  },
  {
   "cell_type": "code",
   "execution_count": 116,
   "id": "a3bedcd2-1fd2-47f8-8641-82b41be4f808",
   "metadata": {},
   "outputs": [
    {
     "data": {
      "text/html": [
       "<div>\n",
       "<style scoped>\n",
       "    .dataframe tbody tr th:only-of-type {\n",
       "        vertical-align: middle;\n",
       "    }\n",
       "\n",
       "    .dataframe tbody tr th {\n",
       "        vertical-align: top;\n",
       "    }\n",
       "\n",
       "    .dataframe thead th {\n",
       "        text-align: right;\n",
       "    }\n",
       "</style>\n",
       "<table border=\"1\" class=\"dataframe\">\n",
       "  <thead>\n",
       "    <tr style=\"text-align: right;\">\n",
       "      <th></th>\n",
       "      <th>Sr No</th>\n",
       "      <th>date</th>\n",
       "      <th>Startup Name</th>\n",
       "      <th>Industry Vertical</th>\n",
       "      <th>SubVertical</th>\n",
       "      <th>City  Location</th>\n",
       "      <th>Investors Name</th>\n",
       "      <th>InvestmentnType</th>\n",
       "      <th>Amount in USD</th>\n",
       "      <th>year</th>\n",
       "      <th>month</th>\n",
       "      <th>month_name</th>\n",
       "    </tr>\n",
       "  </thead>\n",
       "  <tbody>\n",
       "    <tr>\n",
       "      <th>0</th>\n",
       "      <td>1</td>\n",
       "      <td>2020-01-09</td>\n",
       "      <td>BYJU’S</td>\n",
       "      <td>E-Tech</td>\n",
       "      <td>E-learning</td>\n",
       "      <td>Bengaluru</td>\n",
       "      <td>Tiger Global Management</td>\n",
       "      <td>Private Equity Round</td>\n",
       "      <td>200000000.0</td>\n",
       "      <td>2020</td>\n",
       "      <td>1</td>\n",
       "      <td>January</td>\n",
       "    </tr>\n",
       "    <tr>\n",
       "      <th>1</th>\n",
       "      <td>2</td>\n",
       "      <td>2020-01-13</td>\n",
       "      <td>Shuttl</td>\n",
       "      <td>Transportation</td>\n",
       "      <td>App based shuttle service</td>\n",
       "      <td>Gurgaon</td>\n",
       "      <td>Susquehanna Growth Equity</td>\n",
       "      <td>Series C</td>\n",
       "      <td>8048394.0</td>\n",
       "      <td>2020</td>\n",
       "      <td>1</td>\n",
       "      <td>January</td>\n",
       "    </tr>\n",
       "    <tr>\n",
       "      <th>2</th>\n",
       "      <td>3</td>\n",
       "      <td>2020-01-09</td>\n",
       "      <td>Mamaearth</td>\n",
       "      <td>E-commerce</td>\n",
       "      <td>Retailer of baby and toddler products</td>\n",
       "      <td>Bengaluru</td>\n",
       "      <td>Sequoia Capital India</td>\n",
       "      <td>Series B</td>\n",
       "      <td>18358860.0</td>\n",
       "      <td>2020</td>\n",
       "      <td>1</td>\n",
       "      <td>January</td>\n",
       "    </tr>\n",
       "    <tr>\n",
       "      <th>3</th>\n",
       "      <td>4</td>\n",
       "      <td>2020-01-02</td>\n",
       "      <td>https://www.wealthbucket.in/</td>\n",
       "      <td>FinTech</td>\n",
       "      <td>Online Investment</td>\n",
       "      <td>New Delhi</td>\n",
       "      <td>Vinod Khatumal</td>\n",
       "      <td>Pre-series A</td>\n",
       "      <td>3000000.0</td>\n",
       "      <td>2020</td>\n",
       "      <td>1</td>\n",
       "      <td>January</td>\n",
       "    </tr>\n",
       "    <tr>\n",
       "      <th>4</th>\n",
       "      <td>5</td>\n",
       "      <td>2020-01-02</td>\n",
       "      <td>Fashor</td>\n",
       "      <td>Fashion and Apparel</td>\n",
       "      <td>Embroiled Clothes For Women</td>\n",
       "      <td>Mumbai</td>\n",
       "      <td>Sprout Venture Partners</td>\n",
       "      <td>Seed Round</td>\n",
       "      <td>1800000.0</td>\n",
       "      <td>2020</td>\n",
       "      <td>1</td>\n",
       "      <td>January</td>\n",
       "    </tr>\n",
       "  </tbody>\n",
       "</table>\n",
       "</div>"
      ],
      "text/plain": [
       "   Sr No        date                  Startup Name    Industry Vertical  \\\n",
       "0      1  2020-01-09                        BYJU’S               E-Tech   \n",
       "1      2  2020-01-13                        Shuttl       Transportation   \n",
       "2      3  2020-01-09                     Mamaearth           E-commerce   \n",
       "3      4  2020-01-02  https://www.wealthbucket.in/              FinTech   \n",
       "4      5  2020-01-02                        Fashor  Fashion and Apparel   \n",
       "\n",
       "                             SubVertical City  Location  \\\n",
       "0                             E-learning      Bengaluru   \n",
       "1              App based shuttle service        Gurgaon   \n",
       "2  Retailer of baby and toddler products      Bengaluru   \n",
       "3                      Online Investment      New Delhi   \n",
       "4            Embroiled Clothes For Women         Mumbai   \n",
       "\n",
       "              Investors Name       InvestmentnType  Amount in USD  year  \\\n",
       "0    Tiger Global Management  Private Equity Round    200000000.0  2020   \n",
       "1  Susquehanna Growth Equity              Series C      8048394.0  2020   \n",
       "2      Sequoia Capital India              Series B     18358860.0  2020   \n",
       "3             Vinod Khatumal          Pre-series A      3000000.0  2020   \n",
       "4    Sprout Venture Partners            Seed Round      1800000.0  2020   \n",
       "\n",
       "   month month_name  \n",
       "0      1    January  \n",
       "1      1    January  \n",
       "2      1    January  \n",
       "3      1    January  \n",
       "4      1    January  "
      ]
     },
     "execution_count": 116,
     "metadata": {},
     "output_type": "execute_result"
    }
   ],
   "source": [
    "wa.head()"
   ]
  },
  {
   "cell_type": "code",
   "execution_count": 2,
   "id": "7b9b7814-b76a-4c8a-ab22-e6b8ac0f644f",
   "metadata": {},
   "outputs": [],
   "source": [
    "df=pd.read_csv('startup_funding.csv')"
   ]
  },
  {
   "cell_type": "code",
   "execution_count": 3,
   "id": "13ef5260-cf53-41fd-990d-5004dee9538e",
   "metadata": {},
   "outputs": [],
   "source": [
    "df1=df"
   ]
  },
  {
   "cell_type": "code",
   "execution_count": 4,
   "id": "d7034ec5-3dc3-4786-98b6-bc07bb792a24",
   "metadata": {},
   "outputs": [],
   "source": [
    "df2=df1"
   ]
  },
  {
   "cell_type": "code",
   "execution_count": 5,
   "id": "4cde97d9-25ff-4d73-a567-f4cd91f5b3aa",
   "metadata": {},
   "outputs": [
    {
     "data": {
      "text/html": [
       "<div>\n",
       "<style scoped>\n",
       "    .dataframe tbody tr th:only-of-type {\n",
       "        vertical-align: middle;\n",
       "    }\n",
       "\n",
       "    .dataframe tbody tr th {\n",
       "        vertical-align: top;\n",
       "    }\n",
       "\n",
       "    .dataframe thead th {\n",
       "        text-align: right;\n",
       "    }\n",
       "</style>\n",
       "<table border=\"1\" class=\"dataframe\">\n",
       "  <thead>\n",
       "    <tr style=\"text-align: right;\">\n",
       "      <th></th>\n",
       "      <th>Sr No</th>\n",
       "      <th>Date dd/mm/yyyy</th>\n",
       "      <th>Startup Name</th>\n",
       "      <th>Industry Vertical</th>\n",
       "      <th>SubVertical</th>\n",
       "      <th>City  Location</th>\n",
       "      <th>Investors Name</th>\n",
       "      <th>InvestmentnType</th>\n",
       "      <th>Amount in USD</th>\n",
       "      <th>Remarks</th>\n",
       "    </tr>\n",
       "  </thead>\n",
       "  <tbody>\n",
       "    <tr>\n",
       "      <th>0</th>\n",
       "      <td>1</td>\n",
       "      <td>09/01/2020</td>\n",
       "      <td>BYJU’S</td>\n",
       "      <td>E-Tech</td>\n",
       "      <td>E-learning</td>\n",
       "      <td>Bengaluru</td>\n",
       "      <td>Tiger Global Management</td>\n",
       "      <td>Private Equity Round</td>\n",
       "      <td>20,00,00,000</td>\n",
       "      <td>NaN</td>\n",
       "    </tr>\n",
       "    <tr>\n",
       "      <th>1</th>\n",
       "      <td>2</td>\n",
       "      <td>13/01/2020</td>\n",
       "      <td>Shuttl</td>\n",
       "      <td>Transportation</td>\n",
       "      <td>App based shuttle service</td>\n",
       "      <td>Gurgaon</td>\n",
       "      <td>Susquehanna Growth Equity</td>\n",
       "      <td>Series C</td>\n",
       "      <td>80,48,394</td>\n",
       "      <td>NaN</td>\n",
       "    </tr>\n",
       "    <tr>\n",
       "      <th>2</th>\n",
       "      <td>3</td>\n",
       "      <td>09/01/2020</td>\n",
       "      <td>Mamaearth</td>\n",
       "      <td>E-commerce</td>\n",
       "      <td>Retailer of baby and toddler products</td>\n",
       "      <td>Bengaluru</td>\n",
       "      <td>Sequoia Capital India</td>\n",
       "      <td>Series B</td>\n",
       "      <td>1,83,58,860</td>\n",
       "      <td>NaN</td>\n",
       "    </tr>\n",
       "    <tr>\n",
       "      <th>3</th>\n",
       "      <td>4</td>\n",
       "      <td>02/01/2020</td>\n",
       "      <td>https://www.wealthbucket.in/</td>\n",
       "      <td>FinTech</td>\n",
       "      <td>Online Investment</td>\n",
       "      <td>New Delhi</td>\n",
       "      <td>Vinod Khatumal</td>\n",
       "      <td>Pre-series A</td>\n",
       "      <td>30,00,000</td>\n",
       "      <td>NaN</td>\n",
       "    </tr>\n",
       "    <tr>\n",
       "      <th>4</th>\n",
       "      <td>5</td>\n",
       "      <td>02/01/2020</td>\n",
       "      <td>Fashor</td>\n",
       "      <td>Fashion and Apparel</td>\n",
       "      <td>Embroiled Clothes For Women</td>\n",
       "      <td>Mumbai</td>\n",
       "      <td>Sprout Venture Partners</td>\n",
       "      <td>Seed Round</td>\n",
       "      <td>18,00,000</td>\n",
       "      <td>NaN</td>\n",
       "    </tr>\n",
       "  </tbody>\n",
       "</table>\n",
       "</div>"
      ],
      "text/plain": [
       "   Sr No Date dd/mm/yyyy                  Startup Name    Industry Vertical  \\\n",
       "0      1      09/01/2020                        BYJU’S               E-Tech   \n",
       "1      2      13/01/2020                        Shuttl       Transportation   \n",
       "2      3      09/01/2020                     Mamaearth           E-commerce   \n",
       "3      4      02/01/2020  https://www.wealthbucket.in/              FinTech   \n",
       "4      5      02/01/2020                        Fashor  Fashion and Apparel   \n",
       "\n",
       "                             SubVertical City  Location  \\\n",
       "0                             E-learning      Bengaluru   \n",
       "1              App based shuttle service        Gurgaon   \n",
       "2  Retailer of baby and toddler products      Bengaluru   \n",
       "3                      Online Investment      New Delhi   \n",
       "4            Embroiled Clothes For Women         Mumbai   \n",
       "\n",
       "              Investors Name       InvestmentnType Amount in USD Remarks  \n",
       "0    Tiger Global Management  Private Equity Round  20,00,00,000     NaN  \n",
       "1  Susquehanna Growth Equity              Series C     80,48,394     NaN  \n",
       "2      Sequoia Capital India              Series B   1,83,58,860     NaN  \n",
       "3             Vinod Khatumal          Pre-series A     30,00,000     NaN  \n",
       "4    Sprout Venture Partners            Seed Round     18,00,000     NaN  "
      ]
     },
     "execution_count": 5,
     "metadata": {},
     "output_type": "execute_result"
    }
   ],
   "source": [
    "df1.head()"
   ]
  },
  {
   "cell_type": "code",
   "execution_count": 6,
   "id": "944fee7a-7bf7-4c26-af74-bf6ccde36ced",
   "metadata": {},
   "outputs": [
    {
     "data": {
      "text/html": [
       "<div>\n",
       "<style scoped>\n",
       "    .dataframe tbody tr th:only-of-type {\n",
       "        vertical-align: middle;\n",
       "    }\n",
       "\n",
       "    .dataframe tbody tr th {\n",
       "        vertical-align: top;\n",
       "    }\n",
       "\n",
       "    .dataframe thead th {\n",
       "        text-align: right;\n",
       "    }\n",
       "</style>\n",
       "<table border=\"1\" class=\"dataframe\">\n",
       "  <thead>\n",
       "    <tr style=\"text-align: right;\">\n",
       "      <th></th>\n",
       "      <th>Sr No</th>\n",
       "      <th>Date dd/mm/yyyy</th>\n",
       "      <th>Startup Name</th>\n",
       "      <th>Industry Vertical</th>\n",
       "      <th>SubVertical</th>\n",
       "      <th>City  Location</th>\n",
       "      <th>Investors Name</th>\n",
       "      <th>InvestmentnType</th>\n",
       "      <th>Amount in USD</th>\n",
       "      <th>Remarks</th>\n",
       "    </tr>\n",
       "  </thead>\n",
       "  <tbody>\n",
       "    <tr>\n",
       "      <th>0</th>\n",
       "      <td>1</td>\n",
       "      <td>09/01/2020</td>\n",
       "      <td>BYJU’S</td>\n",
       "      <td>E-Tech</td>\n",
       "      <td>E-learning</td>\n",
       "      <td>Bengaluru</td>\n",
       "      <td>Tiger Global Management</td>\n",
       "      <td>Private Equity Round</td>\n",
       "      <td>20,00,00,000</td>\n",
       "      <td>NaN</td>\n",
       "    </tr>\n",
       "    <tr>\n",
       "      <th>1</th>\n",
       "      <td>2</td>\n",
       "      <td>13/01/2020</td>\n",
       "      <td>Shuttl</td>\n",
       "      <td>Transportation</td>\n",
       "      <td>App based shuttle service</td>\n",
       "      <td>Gurgaon</td>\n",
       "      <td>Susquehanna Growth Equity</td>\n",
       "      <td>Series C</td>\n",
       "      <td>80,48,394</td>\n",
       "      <td>NaN</td>\n",
       "    </tr>\n",
       "    <tr>\n",
       "      <th>2</th>\n",
       "      <td>3</td>\n",
       "      <td>09/01/2020</td>\n",
       "      <td>Mamaearth</td>\n",
       "      <td>E-commerce</td>\n",
       "      <td>Retailer of baby and toddler products</td>\n",
       "      <td>Bengaluru</td>\n",
       "      <td>Sequoia Capital India</td>\n",
       "      <td>Series B</td>\n",
       "      <td>1,83,58,860</td>\n",
       "      <td>NaN</td>\n",
       "    </tr>\n",
       "    <tr>\n",
       "      <th>3</th>\n",
       "      <td>4</td>\n",
       "      <td>02/01/2020</td>\n",
       "      <td>https://www.wealthbucket.in/</td>\n",
       "      <td>FinTech</td>\n",
       "      <td>Online Investment</td>\n",
       "      <td>New Delhi</td>\n",
       "      <td>Vinod Khatumal</td>\n",
       "      <td>Pre-series A</td>\n",
       "      <td>30,00,000</td>\n",
       "      <td>NaN</td>\n",
       "    </tr>\n",
       "    <tr>\n",
       "      <th>4</th>\n",
       "      <td>5</td>\n",
       "      <td>02/01/2020</td>\n",
       "      <td>Fashor</td>\n",
       "      <td>Fashion and Apparel</td>\n",
       "      <td>Embroiled Clothes For Women</td>\n",
       "      <td>Mumbai</td>\n",
       "      <td>Sprout Venture Partners</td>\n",
       "      <td>Seed Round</td>\n",
       "      <td>18,00,000</td>\n",
       "      <td>NaN</td>\n",
       "    </tr>\n",
       "  </tbody>\n",
       "</table>\n",
       "</div>"
      ],
      "text/plain": [
       "   Sr No Date dd/mm/yyyy                  Startup Name    Industry Vertical  \\\n",
       "0      1      09/01/2020                        BYJU’S               E-Tech   \n",
       "1      2      13/01/2020                        Shuttl       Transportation   \n",
       "2      3      09/01/2020                     Mamaearth           E-commerce   \n",
       "3      4      02/01/2020  https://www.wealthbucket.in/              FinTech   \n",
       "4      5      02/01/2020                        Fashor  Fashion and Apparel   \n",
       "\n",
       "                             SubVertical City  Location  \\\n",
       "0                             E-learning      Bengaluru   \n",
       "1              App based shuttle service        Gurgaon   \n",
       "2  Retailer of baby and toddler products      Bengaluru   \n",
       "3                      Online Investment      New Delhi   \n",
       "4            Embroiled Clothes For Women         Mumbai   \n",
       "\n",
       "              Investors Name       InvestmentnType Amount in USD Remarks  \n",
       "0    Tiger Global Management  Private Equity Round  20,00,00,000     NaN  \n",
       "1  Susquehanna Growth Equity              Series C     80,48,394     NaN  \n",
       "2      Sequoia Capital India              Series B   1,83,58,860     NaN  \n",
       "3             Vinod Khatumal          Pre-series A     30,00,000     NaN  \n",
       "4    Sprout Venture Partners            Seed Round     18,00,000     NaN  "
      ]
     },
     "execution_count": 6,
     "metadata": {},
     "output_type": "execute_result"
    }
   ],
   "source": [
    "df.head()"
   ]
  },
  {
   "cell_type": "code",
   "execution_count": 7,
   "id": "6c78367d-1fde-49b5-bd2a-abb9f9613c27",
   "metadata": {},
   "outputs": [
    {
     "name": "stdout",
     "output_type": "stream",
     "text": [
      "<class 'pandas.core.frame.DataFrame'>\n",
      "RangeIndex: 3044 entries, 0 to 3043\n",
      "Data columns (total 10 columns):\n",
      " #   Column             Non-Null Count  Dtype \n",
      "---  ------             --------------  ----- \n",
      " 0   Sr No              3044 non-null   int64 \n",
      " 1   Date dd/mm/yyyy    3044 non-null   object\n",
      " 2   Startup Name       3044 non-null   object\n",
      " 3   Industry Vertical  2873 non-null   object\n",
      " 4   SubVertical        2108 non-null   object\n",
      " 5   City  Location     2864 non-null   object\n",
      " 6   Investors Name     3020 non-null   object\n",
      " 7   InvestmentnType    3040 non-null   object\n",
      " 8   Amount in USD      2084 non-null   object\n",
      " 9   Remarks            419 non-null    object\n",
      "dtypes: int64(1), object(9)\n",
      "memory usage: 237.9+ KB\n"
     ]
    }
   ],
   "source": [
    "df.info()"
   ]
  },
  {
   "cell_type": "code",
   "execution_count": 8,
   "id": "11873aa2-7728-4f6a-9365-1d8f14837643",
   "metadata": {},
   "outputs": [
    {
     "data": {
      "text/plain": [
       "(3044, 10)"
      ]
     },
     "execution_count": 8,
     "metadata": {},
     "output_type": "execute_result"
    }
   ],
   "source": [
    "df.shape"
   ]
  },
  {
   "cell_type": "code",
   "execution_count": 9,
   "id": "3a72cf23-3f0e-4ba6-8480-987152c5cd4a",
   "metadata": {},
   "outputs": [
    {
     "data": {
      "text/plain": [
       "Sr No                   0\n",
       "Date dd/mm/yyyy         0\n",
       "Startup Name            0\n",
       "Industry Vertical     171\n",
       "SubVertical           936\n",
       "City  Location        180\n",
       "Investors Name         24\n",
       "InvestmentnType         4\n",
       "Amount in USD         960\n",
       "Remarks              2625\n",
       "dtype: int64"
      ]
     },
     "execution_count": 9,
     "metadata": {},
     "output_type": "execute_result"
    }
   ],
   "source": [
    "df.isna().sum()"
   ]
  },
  {
   "cell_type": "code",
   "execution_count": 10,
   "id": "72e61da3-a61f-4f5c-91e5-8eac7e5a8693",
   "metadata": {},
   "outputs": [
    {
     "data": {
      "text/plain": [
       "0                 E-Tech\n",
       "1         Transportation\n",
       "2             E-commerce\n",
       "3                FinTech\n",
       "4    Fashion and Apparel\n",
       "Name: Industry Vertical, dtype: object"
      ]
     },
     "execution_count": 10,
     "metadata": {},
     "output_type": "execute_result"
    }
   ],
   "source": [
    "df['Industry Vertical'].head()"
   ]
  },
  {
   "cell_type": "code",
   "execution_count": 11,
   "id": "d1d988f0-4e48-41b0-bc87-d36a6a830faa",
   "metadata": {},
   "outputs": [
    {
     "data": {
      "text/html": [
       "<div>\n",
       "<style scoped>\n",
       "    .dataframe tbody tr th:only-of-type {\n",
       "        vertical-align: middle;\n",
       "    }\n",
       "\n",
       "    .dataframe tbody tr th {\n",
       "        vertical-align: top;\n",
       "    }\n",
       "\n",
       "    .dataframe thead th {\n",
       "        text-align: right;\n",
       "    }\n",
       "</style>\n",
       "<table border=\"1\" class=\"dataframe\">\n",
       "  <thead>\n",
       "    <tr style=\"text-align: right;\">\n",
       "      <th></th>\n",
       "      <th>Sr No</th>\n",
       "      <th>Date dd/mm/yyyy</th>\n",
       "      <th>Startup Name</th>\n",
       "      <th>Industry Vertical</th>\n",
       "      <th>SubVertical</th>\n",
       "      <th>City  Location</th>\n",
       "      <th>Investors Name</th>\n",
       "      <th>InvestmentnType</th>\n",
       "      <th>Amount in USD</th>\n",
       "      <th>Remarks</th>\n",
       "    </tr>\n",
       "  </thead>\n",
       "  <tbody>\n",
       "  </tbody>\n",
       "</table>\n",
       "</div>"
      ],
      "text/plain": [
       "Empty DataFrame\n",
       "Columns: [Sr No, Date dd/mm/yyyy, Startup Name, Industry Vertical, SubVertical, City  Location, Investors Name, InvestmentnType, Amount in USD, Remarks]\n",
       "Index: []"
      ]
     },
     "execution_count": 11,
     "metadata": {},
     "output_type": "execute_result"
    }
   ],
   "source": [
    "df.dropna()"
   ]
  },
  {
   "cell_type": "code",
   "execution_count": 12,
   "id": "1456e1ce-e439-44b0-a8b9-ee6aaaa71b93",
   "metadata": {},
   "outputs": [
    {
     "data": {
      "text/html": [
       "<div>\n",
       "<style scoped>\n",
       "    .dataframe tbody tr th:only-of-type {\n",
       "        vertical-align: middle;\n",
       "    }\n",
       "\n",
       "    .dataframe tbody tr th {\n",
       "        vertical-align: top;\n",
       "    }\n",
       "\n",
       "    .dataframe thead th {\n",
       "        text-align: right;\n",
       "    }\n",
       "</style>\n",
       "<table border=\"1\" class=\"dataframe\">\n",
       "  <thead>\n",
       "    <tr style=\"text-align: right;\">\n",
       "      <th></th>\n",
       "      <th>Sr No</th>\n",
       "      <th>Date dd/mm/yyyy</th>\n",
       "      <th>Startup Name</th>\n",
       "      <th>Industry Vertical</th>\n",
       "      <th>SubVertical</th>\n",
       "      <th>City  Location</th>\n",
       "      <th>Investors Name</th>\n",
       "      <th>InvestmentnType</th>\n",
       "      <th>Amount in USD</th>\n",
       "      <th>Remarks</th>\n",
       "    </tr>\n",
       "  </thead>\n",
       "  <tbody>\n",
       "    <tr>\n",
       "      <th>0</th>\n",
       "      <td>1</td>\n",
       "      <td>09/01/2020</td>\n",
       "      <td>BYJU’S</td>\n",
       "      <td>E-Tech</td>\n",
       "      <td>E-learning</td>\n",
       "      <td>Bengaluru</td>\n",
       "      <td>Tiger Global Management</td>\n",
       "      <td>Private Equity Round</td>\n",
       "      <td>20,00,00,000</td>\n",
       "      <td>NaN</td>\n",
       "    </tr>\n",
       "    <tr>\n",
       "      <th>1</th>\n",
       "      <td>2</td>\n",
       "      <td>13/01/2020</td>\n",
       "      <td>Shuttl</td>\n",
       "      <td>Transportation</td>\n",
       "      <td>App based shuttle service</td>\n",
       "      <td>Gurgaon</td>\n",
       "      <td>Susquehanna Growth Equity</td>\n",
       "      <td>Series C</td>\n",
       "      <td>80,48,394</td>\n",
       "      <td>NaN</td>\n",
       "    </tr>\n",
       "    <tr>\n",
       "      <th>2</th>\n",
       "      <td>3</td>\n",
       "      <td>09/01/2020</td>\n",
       "      <td>Mamaearth</td>\n",
       "      <td>E-commerce</td>\n",
       "      <td>Retailer of baby and toddler products</td>\n",
       "      <td>Bengaluru</td>\n",
       "      <td>Sequoia Capital India</td>\n",
       "      <td>Series B</td>\n",
       "      <td>1,83,58,860</td>\n",
       "      <td>NaN</td>\n",
       "    </tr>\n",
       "    <tr>\n",
       "      <th>3</th>\n",
       "      <td>4</td>\n",
       "      <td>02/01/2020</td>\n",
       "      <td>https://www.wealthbucket.in/</td>\n",
       "      <td>FinTech</td>\n",
       "      <td>Online Investment</td>\n",
       "      <td>New Delhi</td>\n",
       "      <td>Vinod Khatumal</td>\n",
       "      <td>Pre-series A</td>\n",
       "      <td>30,00,000</td>\n",
       "      <td>NaN</td>\n",
       "    </tr>\n",
       "    <tr>\n",
       "      <th>4</th>\n",
       "      <td>5</td>\n",
       "      <td>02/01/2020</td>\n",
       "      <td>Fashor</td>\n",
       "      <td>Fashion and Apparel</td>\n",
       "      <td>Embroiled Clothes For Women</td>\n",
       "      <td>Mumbai</td>\n",
       "      <td>Sprout Venture Partners</td>\n",
       "      <td>Seed Round</td>\n",
       "      <td>18,00,000</td>\n",
       "      <td>NaN</td>\n",
       "    </tr>\n",
       "  </tbody>\n",
       "</table>\n",
       "</div>"
      ],
      "text/plain": [
       "   Sr No Date dd/mm/yyyy                  Startup Name    Industry Vertical  \\\n",
       "0      1      09/01/2020                        BYJU’S               E-Tech   \n",
       "1      2      13/01/2020                        Shuttl       Transportation   \n",
       "2      3      09/01/2020                     Mamaearth           E-commerce   \n",
       "3      4      02/01/2020  https://www.wealthbucket.in/              FinTech   \n",
       "4      5      02/01/2020                        Fashor  Fashion and Apparel   \n",
       "\n",
       "                             SubVertical City  Location  \\\n",
       "0                             E-learning      Bengaluru   \n",
       "1              App based shuttle service        Gurgaon   \n",
       "2  Retailer of baby and toddler products      Bengaluru   \n",
       "3                      Online Investment      New Delhi   \n",
       "4            Embroiled Clothes For Women         Mumbai   \n",
       "\n",
       "              Investors Name       InvestmentnType Amount in USD Remarks  \n",
       "0    Tiger Global Management  Private Equity Round  20,00,00,000     NaN  \n",
       "1  Susquehanna Growth Equity              Series C     80,48,394     NaN  \n",
       "2      Sequoia Capital India              Series B   1,83,58,860     NaN  \n",
       "3             Vinod Khatumal          Pre-series A     30,00,000     NaN  \n",
       "4    Sprout Venture Partners            Seed Round     18,00,000     NaN  "
      ]
     },
     "execution_count": 12,
     "metadata": {},
     "output_type": "execute_result"
    }
   ],
   "source": [
    "df.head()"
   ]
  },
  {
   "cell_type": "code",
   "execution_count": 13,
   "id": "4e448dfa-7833-49eb-8644-c178839727d4",
   "metadata": {},
   "outputs": [
    {
     "data": {
      "text/plain": [
       "Sr No                   0\n",
       "Date dd/mm/yyyy         0\n",
       "Startup Name            0\n",
       "Industry Vertical     171\n",
       "SubVertical           936\n",
       "City  Location        180\n",
       "Investors Name         24\n",
       "InvestmentnType         4\n",
       "Amount in USD         960\n",
       "Remarks              2625\n",
       "dtype: int64"
      ]
     },
     "execution_count": 13,
     "metadata": {},
     "output_type": "execute_result"
    }
   ],
   "source": [
    "df.isna().sum()"
   ]
  },
  {
   "cell_type": "code",
   "execution_count": 14,
   "id": "aee88315-35e7-4580-8b8a-df6dcd88fe05",
   "metadata": {},
   "outputs": [
    {
     "data": {
      "text/html": [
       "<div>\n",
       "<style scoped>\n",
       "    .dataframe tbody tr th:only-of-type {\n",
       "        vertical-align: middle;\n",
       "    }\n",
       "\n",
       "    .dataframe tbody tr th {\n",
       "        vertical-align: top;\n",
       "    }\n",
       "\n",
       "    .dataframe thead th {\n",
       "        text-align: right;\n",
       "    }\n",
       "</style>\n",
       "<table border=\"1\" class=\"dataframe\">\n",
       "  <thead>\n",
       "    <tr style=\"text-align: right;\">\n",
       "      <th></th>\n",
       "      <th>Sr No</th>\n",
       "      <th>Date dd/mm/yyyy</th>\n",
       "      <th>Startup Name</th>\n",
       "      <th>Industry Vertical</th>\n",
       "      <th>SubVertical</th>\n",
       "      <th>City  Location</th>\n",
       "      <th>Investors Name</th>\n",
       "      <th>InvestmentnType</th>\n",
       "      <th>Amount in USD</th>\n",
       "      <th>Remarks</th>\n",
       "    </tr>\n",
       "  </thead>\n",
       "  <tbody>\n",
       "    <tr>\n",
       "      <th>0</th>\n",
       "      <td>1</td>\n",
       "      <td>09/01/2020</td>\n",
       "      <td>BYJU’S</td>\n",
       "      <td>E-Tech</td>\n",
       "      <td>E-learning</td>\n",
       "      <td>Bengaluru</td>\n",
       "      <td>Tiger Global Management</td>\n",
       "      <td>Private Equity Round</td>\n",
       "      <td>20,00,00,000</td>\n",
       "      <td>NaN</td>\n",
       "    </tr>\n",
       "    <tr>\n",
       "      <th>1</th>\n",
       "      <td>2</td>\n",
       "      <td>13/01/2020</td>\n",
       "      <td>Shuttl</td>\n",
       "      <td>Transportation</td>\n",
       "      <td>App based shuttle service</td>\n",
       "      <td>Gurgaon</td>\n",
       "      <td>Susquehanna Growth Equity</td>\n",
       "      <td>Series C</td>\n",
       "      <td>80,48,394</td>\n",
       "      <td>NaN</td>\n",
       "    </tr>\n",
       "    <tr>\n",
       "      <th>2</th>\n",
       "      <td>3</td>\n",
       "      <td>09/01/2020</td>\n",
       "      <td>Mamaearth</td>\n",
       "      <td>E-commerce</td>\n",
       "      <td>Retailer of baby and toddler products</td>\n",
       "      <td>Bengaluru</td>\n",
       "      <td>Sequoia Capital India</td>\n",
       "      <td>Series B</td>\n",
       "      <td>1,83,58,860</td>\n",
       "      <td>NaN</td>\n",
       "    </tr>\n",
       "    <tr>\n",
       "      <th>3</th>\n",
       "      <td>4</td>\n",
       "      <td>02/01/2020</td>\n",
       "      <td>https://www.wealthbucket.in/</td>\n",
       "      <td>FinTech</td>\n",
       "      <td>Online Investment</td>\n",
       "      <td>New Delhi</td>\n",
       "      <td>Vinod Khatumal</td>\n",
       "      <td>Pre-series A</td>\n",
       "      <td>30,00,000</td>\n",
       "      <td>NaN</td>\n",
       "    </tr>\n",
       "    <tr>\n",
       "      <th>4</th>\n",
       "      <td>5</td>\n",
       "      <td>02/01/2020</td>\n",
       "      <td>Fashor</td>\n",
       "      <td>Fashion and Apparel</td>\n",
       "      <td>Embroiled Clothes For Women</td>\n",
       "      <td>Mumbai</td>\n",
       "      <td>Sprout Venture Partners</td>\n",
       "      <td>Seed Round</td>\n",
       "      <td>18,00,000</td>\n",
       "      <td>NaN</td>\n",
       "    </tr>\n",
       "    <tr>\n",
       "      <th>...</th>\n",
       "      <td>...</td>\n",
       "      <td>...</td>\n",
       "      <td>...</td>\n",
       "      <td>...</td>\n",
       "      <td>...</td>\n",
       "      <td>...</td>\n",
       "      <td>...</td>\n",
       "      <td>...</td>\n",
       "      <td>...</td>\n",
       "      <td>...</td>\n",
       "    </tr>\n",
       "    <tr>\n",
       "      <th>3038</th>\n",
       "      <td>3039</td>\n",
       "      <td>28/01/2015</td>\n",
       "      <td>Grabhouse.com</td>\n",
       "      <td>NaN</td>\n",
       "      <td>NaN</td>\n",
       "      <td>NaN</td>\n",
       "      <td>Kalaari Capital, Sequoia Capital</td>\n",
       "      <td>Private Equity</td>\n",
       "      <td>25,00,000</td>\n",
       "      <td>Series A</td>\n",
       "    </tr>\n",
       "    <tr>\n",
       "      <th>3039</th>\n",
       "      <td>3040</td>\n",
       "      <td>29/01/2015</td>\n",
       "      <td>Printvenue</td>\n",
       "      <td>NaN</td>\n",
       "      <td>NaN</td>\n",
       "      <td>NaN</td>\n",
       "      <td>Asia Pacific Internet Group</td>\n",
       "      <td>Private Equity</td>\n",
       "      <td>45,00,000</td>\n",
       "      <td>NaN</td>\n",
       "    </tr>\n",
       "    <tr>\n",
       "      <th>3040</th>\n",
       "      <td>3041</td>\n",
       "      <td>29/01/2015</td>\n",
       "      <td>Graphene</td>\n",
       "      <td>NaN</td>\n",
       "      <td>NaN</td>\n",
       "      <td>NaN</td>\n",
       "      <td>KARSEMVEN Fund</td>\n",
       "      <td>Private Equity</td>\n",
       "      <td>8,25,000</td>\n",
       "      <td>Govt backed VC Fund</td>\n",
       "    </tr>\n",
       "    <tr>\n",
       "      <th>3041</th>\n",
       "      <td>3042</td>\n",
       "      <td>30/01/2015</td>\n",
       "      <td>Mad Street Den</td>\n",
       "      <td>NaN</td>\n",
       "      <td>NaN</td>\n",
       "      <td>NaN</td>\n",
       "      <td>Exfinity Fund, GrowX Ventures.</td>\n",
       "      <td>Private Equity</td>\n",
       "      <td>15,00,000</td>\n",
       "      <td>NaN</td>\n",
       "    </tr>\n",
       "    <tr>\n",
       "      <th>3043</th>\n",
       "      <td>3044</td>\n",
       "      <td>31/01/2015</td>\n",
       "      <td>couponmachine.in</td>\n",
       "      <td>NaN</td>\n",
       "      <td>NaN</td>\n",
       "      <td>NaN</td>\n",
       "      <td>UK based Group of Angel Investors</td>\n",
       "      <td>Seed Funding</td>\n",
       "      <td>1,40,000</td>\n",
       "      <td>NaN</td>\n",
       "    </tr>\n",
       "  </tbody>\n",
       "</table>\n",
       "<p>2084 rows × 10 columns</p>\n",
       "</div>"
      ],
      "text/plain": [
       "      Sr No Date dd/mm/yyyy                  Startup Name  \\\n",
       "0         1      09/01/2020                        BYJU’S   \n",
       "1         2      13/01/2020                        Shuttl   \n",
       "2         3      09/01/2020                     Mamaearth   \n",
       "3         4      02/01/2020  https://www.wealthbucket.in/   \n",
       "4         5      02/01/2020                        Fashor   \n",
       "...     ...             ...                           ...   \n",
       "3038   3039      28/01/2015                 Grabhouse.com   \n",
       "3039   3040      29/01/2015                    Printvenue   \n",
       "3040   3041      29/01/2015                      Graphene   \n",
       "3041   3042      30/01/2015                Mad Street Den   \n",
       "3043   3044      31/01/2015              couponmachine.in   \n",
       "\n",
       "        Industry Vertical                            SubVertical  \\\n",
       "0                  E-Tech                             E-learning   \n",
       "1          Transportation              App based shuttle service   \n",
       "2              E-commerce  Retailer of baby and toddler products   \n",
       "3                 FinTech                      Online Investment   \n",
       "4     Fashion and Apparel            Embroiled Clothes For Women   \n",
       "...                   ...                                    ...   \n",
       "3038                  NaN                                    NaN   \n",
       "3039                  NaN                                    NaN   \n",
       "3040                  NaN                                    NaN   \n",
       "3041                  NaN                                    NaN   \n",
       "3043                  NaN                                    NaN   \n",
       "\n",
       "     City  Location                     Investors Name       InvestmentnType  \\\n",
       "0         Bengaluru            Tiger Global Management  Private Equity Round   \n",
       "1           Gurgaon          Susquehanna Growth Equity              Series C   \n",
       "2         Bengaluru              Sequoia Capital India              Series B   \n",
       "3         New Delhi                     Vinod Khatumal          Pre-series A   \n",
       "4            Mumbai            Sprout Venture Partners            Seed Round   \n",
       "...             ...                                ...                   ...   \n",
       "3038            NaN   Kalaari Capital, Sequoia Capital        Private Equity   \n",
       "3039            NaN        Asia Pacific Internet Group        Private Equity   \n",
       "3040            NaN                     KARSEMVEN Fund        Private Equity   \n",
       "3041            NaN     Exfinity Fund, GrowX Ventures.        Private Equity   \n",
       "3043            NaN  UK based Group of Angel Investors          Seed Funding   \n",
       "\n",
       "     Amount in USD              Remarks  \n",
       "0     20,00,00,000                  NaN  \n",
       "1        80,48,394                  NaN  \n",
       "2      1,83,58,860                  NaN  \n",
       "3        30,00,000                  NaN  \n",
       "4        18,00,000                  NaN  \n",
       "...            ...                  ...  \n",
       "3038     25,00,000             Series A  \n",
       "3039     45,00,000                  NaN  \n",
       "3040      8,25,000  Govt backed VC Fund  \n",
       "3041     15,00,000                  NaN  \n",
       "3043      1,40,000                  NaN  \n",
       "\n",
       "[2084 rows x 10 columns]"
      ]
     },
     "execution_count": 14,
     "metadata": {},
     "output_type": "execute_result"
    }
   ],
   "source": [
    "df.dropna(subset=[\"Amount in USD\"])"
   ]
  },
  {
   "cell_type": "code",
   "execution_count": 15,
   "id": "a26cfdac-b9fb-46ed-a15d-0c13aacf88bb",
   "metadata": {},
   "outputs": [],
   "source": [
    "df['Industry Vertical']=df['Industry Vertical'].fillna('Unknown')"
   ]
  },
  {
   "cell_type": "code",
   "execution_count": 16,
   "id": "6bbc8a89-8a1d-4857-9b90-cd325cf5c25c",
   "metadata": {},
   "outputs": [
    {
     "data": {
      "text/plain": [
       "Sr No                   0\n",
       "Date dd/mm/yyyy         0\n",
       "Startup Name            0\n",
       "Industry Vertical       0\n",
       "SubVertical           936\n",
       "City  Location        180\n",
       "Investors Name         24\n",
       "InvestmentnType         4\n",
       "Amount in USD         960\n",
       "Remarks              2625\n",
       "dtype: int64"
      ]
     },
     "execution_count": 16,
     "metadata": {},
     "output_type": "execute_result"
    }
   ],
   "source": [
    "df.isna().sum()"
   ]
  },
  {
   "cell_type": "code",
   "execution_count": 17,
   "id": "37ec8e85-bda8-4aa7-958a-5b31f353730b",
   "metadata": {},
   "outputs": [],
   "source": [
    "df['SubVertical']=df['SubVertical'].fillna('Unknown')"
   ]
  },
  {
   "cell_type": "code",
   "execution_count": 18,
   "id": "bf2a6f03-7266-492e-a669-02bdd55b1552",
   "metadata": {},
   "outputs": [],
   "source": [
    "df['City  Location']=df['City  Location'].fillna('Unknown')"
   ]
  },
  {
   "cell_type": "code",
   "execution_count": 19,
   "id": "3a215065-efd9-481f-aa43-c07857ab5f0e",
   "metadata": {},
   "outputs": [],
   "source": [
    "df['Investors Name']=df['Investors Name'].fillna('Unknown')"
   ]
  },
  {
   "cell_type": "code",
   "execution_count": 20,
   "id": "de061574-d7a6-48a4-988b-4fd36079c7ff",
   "metadata": {},
   "outputs": [],
   "source": [
    "df['InvestmentnType']=df['InvestmentnType'].fillna('Unknown')"
   ]
  },
  {
   "cell_type": "code",
   "execution_count": 21,
   "id": "f51d35f4-dada-4c27-b232-754304b296b0",
   "metadata": {},
   "outputs": [
    {
     "data": {
      "text/plain": [
       "Sr No                   0\n",
       "Date dd/mm/yyyy         0\n",
       "Startup Name            0\n",
       "Industry Vertical       0\n",
       "SubVertical             0\n",
       "City  Location          0\n",
       "Investors Name          0\n",
       "InvestmentnType         0\n",
       "Amount in USD         960\n",
       "Remarks              2625\n",
       "dtype: int64"
      ]
     },
     "execution_count": 21,
     "metadata": {},
     "output_type": "execute_result"
    }
   ],
   "source": [
    "df.isna().sum()"
   ]
  },
  {
   "cell_type": "code",
   "execution_count": 22,
   "id": "59ff42eb-1ea7-40f2-8d0c-6b66606e6ed3",
   "metadata": {},
   "outputs": [],
   "source": [
    "df=df.drop(columns=['Remarks'])"
   ]
  },
  {
   "cell_type": "code",
   "execution_count": 23,
   "id": "8b461d4e-8bbc-4f0b-8b41-1af969ccbb3c",
   "metadata": {},
   "outputs": [
    {
     "data": {
      "text/plain": [
       "Sr No                  0\n",
       "Date dd/mm/yyyy        0\n",
       "Startup Name           0\n",
       "Industry Vertical      0\n",
       "SubVertical            0\n",
       "City  Location         0\n",
       "Investors Name         0\n",
       "InvestmentnType        0\n",
       "Amount in USD        960\n",
       "dtype: int64"
      ]
     },
     "execution_count": 23,
     "metadata": {},
     "output_type": "execute_result"
    }
   ],
   "source": [
    "df.isna().sum()"
   ]
  },
  {
   "cell_type": "code",
   "execution_count": null,
   "id": "7296cc2d-92b7-41f0-8689-2269ada1ec22",
   "metadata": {},
   "outputs": [],
   "source": []
  },
  {
   "cell_type": "code",
   "execution_count": null,
   "id": "038801bd-311e-4592-8c90-bd490dafacca",
   "metadata": {},
   "outputs": [],
   "source": []
  },
  {
   "cell_type": "code",
   "execution_count": null,
   "id": "826a9f06-d5f1-4e7e-a765-1a481fe95e38",
   "metadata": {},
   "outputs": [],
   "source": []
  },
  {
   "cell_type": "code",
   "execution_count": 24,
   "id": "50ed710d-f449-4f31-96f4-0dff25758d7f",
   "metadata": {},
   "outputs": [
    {
     "data": {
      "text/plain": [
       "Sr No                  0\n",
       "Date dd/mm/yyyy        0\n",
       "Startup Name           0\n",
       "Industry Vertical      0\n",
       "SubVertical            0\n",
       "City  Location         0\n",
       "Investors Name         0\n",
       "InvestmentnType        0\n",
       "Amount in USD        960\n",
       "dtype: int64"
      ]
     },
     "execution_count": 24,
     "metadata": {},
     "output_type": "execute_result"
    }
   ],
   "source": [
    "df.isnull().sum()"
   ]
  },
  {
   "cell_type": "code",
   "execution_count": 25,
   "id": "6f060d89-c5e0-4176-969b-a12f93bec54c",
   "metadata": {},
   "outputs": [
    {
     "name": "stdout",
     "output_type": "stream",
     "text": [
      "<class 'pandas.core.frame.DataFrame'>\n",
      "RangeIndex: 3044 entries, 0 to 3043\n",
      "Data columns (total 9 columns):\n",
      " #   Column             Non-Null Count  Dtype \n",
      "---  ------             --------------  ----- \n",
      " 0   Sr No              3044 non-null   int64 \n",
      " 1   Date dd/mm/yyyy    3044 non-null   object\n",
      " 2   Startup Name       3044 non-null   object\n",
      " 3   Industry Vertical  3044 non-null   object\n",
      " 4   SubVertical        3044 non-null   object\n",
      " 5   City  Location     3044 non-null   object\n",
      " 6   Investors Name     3044 non-null   object\n",
      " 7   InvestmentnType    3044 non-null   object\n",
      " 8   Amount in USD      2084 non-null   object\n",
      "dtypes: int64(1), object(8)\n",
      "memory usage: 214.2+ KB\n"
     ]
    }
   ],
   "source": [
    "df.info()"
   ]
  },
  {
   "cell_type": "code",
   "execution_count": 26,
   "id": "abffc711-99fb-4a6d-871b-72fb0e7a8213",
   "metadata": {},
   "outputs": [],
   "source": [
    "# Rename the column\n",
    "df.rename(columns={'Date dd/mm/yyyy': 'date'}, inplace=True)\n",
    "\n",
    "# Convert to datetime\n",
    "df['date'] = pd.to_datetime(df['date'], format='%d/%m/%Y', errors='coerce')\n"
   ]
  },
  {
   "cell_type": "code",
   "execution_count": 27,
   "id": "31b8935b-d3b7-473c-a2e6-c699caa3cb58",
   "metadata": {},
   "outputs": [
    {
     "name": "stdout",
     "output_type": "stream",
     "text": [
      "<class 'pandas.core.frame.DataFrame'>\n",
      "RangeIndex: 3044 entries, 0 to 3043\n",
      "Data columns (total 9 columns):\n",
      " #   Column             Non-Null Count  Dtype         \n",
      "---  ------             --------------  -----         \n",
      " 0   Sr No              3044 non-null   int64         \n",
      " 1   date               3036 non-null   datetime64[ns]\n",
      " 2   Startup Name       3044 non-null   object        \n",
      " 3   Industry Vertical  3044 non-null   object        \n",
      " 4   SubVertical        3044 non-null   object        \n",
      " 5   City  Location     3044 non-null   object        \n",
      " 6   Investors Name     3044 non-null   object        \n",
      " 7   InvestmentnType    3044 non-null   object        \n",
      " 8   Amount in USD      2084 non-null   object        \n",
      "dtypes: datetime64[ns](1), int64(1), object(7)\n",
      "memory usage: 214.2+ KB\n"
     ]
    }
   ],
   "source": [
    "df.info()"
   ]
  },
  {
   "cell_type": "code",
   "execution_count": 28,
   "id": "156f4260-e7ca-4591-a444-0cd9af5afd4b",
   "metadata": {},
   "outputs": [],
   "source": [
    "df = df.dropna(subset=['date'])"
   ]
  },
  {
   "cell_type": "code",
   "execution_count": 29,
   "id": "041baeb0-d637-4da9-ab40-10d52356a40a",
   "metadata": {},
   "outputs": [],
   "source": [
    "df['year']=df['date'].dt.year\n",
    "\n",
    "import warnings\n",
    "warnings.filterwarnings('ignore')"
   ]
  },
  {
   "cell_type": "code",
   "execution_count": 30,
   "id": "38ae5497-890f-4004-8a24-b6f2610bbecb",
   "metadata": {},
   "outputs": [],
   "source": [
    "df['month']=df['date'].dt.month"
   ]
  },
  {
   "cell_type": "code",
   "execution_count": 31,
   "id": "0cd81cfd-e2ec-4888-aae7-9f51f7453f2e",
   "metadata": {},
   "outputs": [],
   "source": [
    "df['month_name']=df['date'].dt.strftime('%B')"
   ]
  },
  {
   "cell_type": "code",
   "execution_count": 32,
   "id": "76806fd3-0d19-4a56-93ba-285ca0ac63e1",
   "metadata": {},
   "outputs": [
    {
     "data": {
      "text/plain": [
       "Sr No                   0\n",
       "Date dd/mm/yyyy         0\n",
       "Startup Name            0\n",
       "Industry Vertical       0\n",
       "SubVertical             0\n",
       "City  Location          0\n",
       "Investors Name          0\n",
       "InvestmentnType         0\n",
       "Amount in USD         960\n",
       "Remarks              2625\n",
       "dtype: int64"
      ]
     },
     "execution_count": 32,
     "metadata": {},
     "output_type": "execute_result"
    }
   ],
   "source": [
    "df1.isna().sum()"
   ]
  },
  {
   "cell_type": "code",
   "execution_count": 33,
   "id": "76e3fbd2-1508-4cc3-ba0f-6bf1398e8ffc",
   "metadata": {},
   "outputs": [],
   "source": [
    "df1 = df1.dropna(subset=['Amount in USD'])"
   ]
  },
  {
   "cell_type": "code",
   "execution_count": 34,
   "id": "077e73fc-d39b-46d7-8b8d-62ac45ace078",
   "metadata": {},
   "outputs": [
    {
     "data": {
      "text/plain": [
       "Sr No                   0\n",
       "Date dd/mm/yyyy         0\n",
       "Startup Name            0\n",
       "Industry Vertical       0\n",
       "SubVertical             0\n",
       "City  Location          0\n",
       "Investors Name          0\n",
       "InvestmentnType         0\n",
       "Amount in USD           0\n",
       "Remarks              1743\n",
       "dtype: int64"
      ]
     },
     "execution_count": 34,
     "metadata": {},
     "output_type": "execute_result"
    }
   ],
   "source": [
    "df1.isna().sum()"
   ]
  },
  {
   "cell_type": "code",
   "execution_count": 35,
   "id": "12bd044e-b0ac-48f0-920d-335b795276d7",
   "metadata": {},
   "outputs": [],
   "source": [
    "df1=df1.drop(columns=['Remarks'])"
   ]
  },
  {
   "cell_type": "code",
   "execution_count": 36,
   "id": "a44bf557-5cfa-4d8a-a9d6-6888e4c0238e",
   "metadata": {},
   "outputs": [],
   "source": [
    "df1 = df1.drop_duplicates()\n"
   ]
  },
  {
   "cell_type": "code",
   "execution_count": 37,
   "id": "c19c1d0a-a4b3-440f-a23d-52cbabfea2b0",
   "metadata": {},
   "outputs": [
    {
     "data": {
      "text/plain": [
       "Sr No                0\n",
       "Date dd/mm/yyyy      0\n",
       "Startup Name         0\n",
       "Industry Vertical    0\n",
       "SubVertical          0\n",
       "City  Location       0\n",
       "Investors Name       0\n",
       "InvestmentnType      0\n",
       "Amount in USD        0\n",
       "dtype: int64"
      ]
     },
     "execution_count": 37,
     "metadata": {},
     "output_type": "execute_result"
    }
   ],
   "source": [
    "df1.isnull().sum()"
   ]
  },
  {
   "cell_type": "code",
   "execution_count": 38,
   "id": "6b084e5e-9b43-43ae-865f-92fc385505ab",
   "metadata": {},
   "outputs": [],
   "source": [
    "# Rename the column\n",
    "df1.rename(columns={'Date dd/mm/yyyy': 'date'}, inplace=True)\n",
    "\n",
    "# Convert to datetime\n",
    "df1['date'] = pd.to_datetime(df1['date'], format='%d/%m/%Y', errors='coerce')"
   ]
  },
  {
   "cell_type": "code",
   "execution_count": 39,
   "id": "62b5d4d9-fcbf-4829-84d1-220cc4b9f8c1",
   "metadata": {},
   "outputs": [],
   "source": [
    "df1=df1.dropna(subset=['date'])"
   ]
  },
  {
   "cell_type": "code",
   "execution_count": 40,
   "id": "df8b8d11-e10d-4156-aa0c-a0fc39609302",
   "metadata": {},
   "outputs": [],
   "source": [
    "df1['year'] = df1['date'].dt.year\n",
    "df1['month'] = df1['date'].dt.month\n",
    "df1['month_name'] = df1['date'].dt.strftime('%B')\n"
   ]
  },
  {
   "cell_type": "code",
   "execution_count": 41,
   "id": "48942b09-ab59-4edb-a060-0c565cead7fa",
   "metadata": {},
   "outputs": [],
   "source": [
    "# Remove commas and non-numeric entries\n",
    "df['Amount in USD'] = df['Amount in USD'].replace('[\\$,]', '', regex=True)\n",
    "df['Amount in USD'] = pd.to_numeric(df['Amount in USD'], errors='coerce')\n",
    "\n",
    "# Drop NaNs introduced from 'Undisclosed' etc.\n",
    "df = df.dropna(subset=['Amount in USD'])\n"
   ]
  },
  {
   "cell_type": "code",
   "execution_count": 42,
   "id": "b34eefb2-0390-4e12-95d6-1bba0862cc83",
   "metadata": {},
   "outputs": [],
   "source": [
    "# Remove commas and non-numeric entries\n",
    "df1['Amount in USD'] = df1['Amount in USD'].replace('[\\$,]', '', regex=True)\n",
    "df1['Amount in USD'] = pd.to_numeric(df1['Amount in USD'], errors='coerce')\n",
    "\n",
    "# Drop NaNs introduced from 'Undisclosed' etc.\n",
    "df1 = df1.dropna(subset=['Amount in USD'])\n"
   ]
  },
  {
   "cell_type": "code",
   "execution_count": 43,
   "id": "44d49f23-849c-462f-9e04-6421b21ec1f1",
   "metadata": {},
   "outputs": [
    {
     "data": {
      "text/html": [
       "<div>\n",
       "<style scoped>\n",
       "    .dataframe tbody tr th:only-of-type {\n",
       "        vertical-align: middle;\n",
       "    }\n",
       "\n",
       "    .dataframe tbody tr th {\n",
       "        vertical-align: top;\n",
       "    }\n",
       "\n",
       "    .dataframe thead th {\n",
       "        text-align: right;\n",
       "    }\n",
       "</style>\n",
       "<table border=\"1\" class=\"dataframe\">\n",
       "  <thead>\n",
       "    <tr style=\"text-align: right;\">\n",
       "      <th></th>\n",
       "      <th>Sr No</th>\n",
       "      <th>date</th>\n",
       "      <th>Startup Name</th>\n",
       "      <th>Industry Vertical</th>\n",
       "      <th>SubVertical</th>\n",
       "      <th>City  Location</th>\n",
       "      <th>Investors Name</th>\n",
       "      <th>InvestmentnType</th>\n",
       "      <th>Amount in USD</th>\n",
       "      <th>year</th>\n",
       "      <th>month</th>\n",
       "      <th>month_name</th>\n",
       "    </tr>\n",
       "  </thead>\n",
       "  <tbody>\n",
       "    <tr>\n",
       "      <th>0</th>\n",
       "      <td>1</td>\n",
       "      <td>2020-01-09</td>\n",
       "      <td>BYJU’S</td>\n",
       "      <td>E-Tech</td>\n",
       "      <td>E-learning</td>\n",
       "      <td>Bengaluru</td>\n",
       "      <td>Tiger Global Management</td>\n",
       "      <td>Private Equity Round</td>\n",
       "      <td>200000000.0</td>\n",
       "      <td>2020</td>\n",
       "      <td>1</td>\n",
       "      <td>January</td>\n",
       "    </tr>\n",
       "    <tr>\n",
       "      <th>1</th>\n",
       "      <td>2</td>\n",
       "      <td>2020-01-13</td>\n",
       "      <td>Shuttl</td>\n",
       "      <td>Transportation</td>\n",
       "      <td>App based shuttle service</td>\n",
       "      <td>Gurgaon</td>\n",
       "      <td>Susquehanna Growth Equity</td>\n",
       "      <td>Series C</td>\n",
       "      <td>8048394.0</td>\n",
       "      <td>2020</td>\n",
       "      <td>1</td>\n",
       "      <td>January</td>\n",
       "    </tr>\n",
       "    <tr>\n",
       "      <th>2</th>\n",
       "      <td>3</td>\n",
       "      <td>2020-01-09</td>\n",
       "      <td>Mamaearth</td>\n",
       "      <td>E-commerce</td>\n",
       "      <td>Retailer of baby and toddler products</td>\n",
       "      <td>Bengaluru</td>\n",
       "      <td>Sequoia Capital India</td>\n",
       "      <td>Series B</td>\n",
       "      <td>18358860.0</td>\n",
       "      <td>2020</td>\n",
       "      <td>1</td>\n",
       "      <td>January</td>\n",
       "    </tr>\n",
       "    <tr>\n",
       "      <th>3</th>\n",
       "      <td>4</td>\n",
       "      <td>2020-01-02</td>\n",
       "      <td>https://www.wealthbucket.in/</td>\n",
       "      <td>FinTech</td>\n",
       "      <td>Online Investment</td>\n",
       "      <td>New Delhi</td>\n",
       "      <td>Vinod Khatumal</td>\n",
       "      <td>Pre-series A</td>\n",
       "      <td>3000000.0</td>\n",
       "      <td>2020</td>\n",
       "      <td>1</td>\n",
       "      <td>January</td>\n",
       "    </tr>\n",
       "    <tr>\n",
       "      <th>4</th>\n",
       "      <td>5</td>\n",
       "      <td>2020-01-02</td>\n",
       "      <td>Fashor</td>\n",
       "      <td>Fashion and Apparel</td>\n",
       "      <td>Embroiled Clothes For Women</td>\n",
       "      <td>Mumbai</td>\n",
       "      <td>Sprout Venture Partners</td>\n",
       "      <td>Seed Round</td>\n",
       "      <td>1800000.0</td>\n",
       "      <td>2020</td>\n",
       "      <td>1</td>\n",
       "      <td>January</td>\n",
       "    </tr>\n",
       "  </tbody>\n",
       "</table>\n",
       "</div>"
      ],
      "text/plain": [
       "   Sr No       date                  Startup Name    Industry Vertical  \\\n",
       "0      1 2020-01-09                        BYJU’S               E-Tech   \n",
       "1      2 2020-01-13                        Shuttl       Transportation   \n",
       "2      3 2020-01-09                     Mamaearth           E-commerce   \n",
       "3      4 2020-01-02  https://www.wealthbucket.in/              FinTech   \n",
       "4      5 2020-01-02                        Fashor  Fashion and Apparel   \n",
       "\n",
       "                             SubVertical City  Location  \\\n",
       "0                             E-learning      Bengaluru   \n",
       "1              App based shuttle service        Gurgaon   \n",
       "2  Retailer of baby and toddler products      Bengaluru   \n",
       "3                      Online Investment      New Delhi   \n",
       "4            Embroiled Clothes For Women         Mumbai   \n",
       "\n",
       "              Investors Name       InvestmentnType  Amount in USD  year  \\\n",
       "0    Tiger Global Management  Private Equity Round    200000000.0  2020   \n",
       "1  Susquehanna Growth Equity              Series C      8048394.0  2020   \n",
       "2      Sequoia Capital India              Series B     18358860.0  2020   \n",
       "3             Vinod Khatumal          Pre-series A      3000000.0  2020   \n",
       "4    Sprout Venture Partners            Seed Round      1800000.0  2020   \n",
       "\n",
       "   month month_name  \n",
       "0      1    January  \n",
       "1      1    January  \n",
       "2      1    January  \n",
       "3      1    January  \n",
       "4      1    January  "
      ]
     },
     "execution_count": 43,
     "metadata": {},
     "output_type": "execute_result"
    }
   ],
   "source": [
    "df1.head(5)"
   ]
  },
  {
   "cell_type": "markdown",
   "id": "7da62349-c171-41c0-b1aa-389d181824ab",
   "metadata": {},
   "source": [
    "## Funding By Year"
   ]
  },
  {
   "cell_type": "code",
   "execution_count": 45,
   "id": "fc183eff-312a-4439-8cd8-629883406b90",
   "metadata": {},
   "outputs": [
    {
     "data": {
      "image/png": "[encoded data removed]",
      "text/plain": [
       "<Figure size 1000x600 with 1 Axes>"
      ]
     },
     "metadata": {},
     "output_type": "display_data"
    }
   ],
   "source": [
    "funding_by_year = df.groupby('year')['Amount in USD'].sum()\n",
    "\n",
    "plt.figure(figsize=(10,6))\n",
    "funding_by_year.plot(kind='bar', color='dodgerblue')\n",
    "plt.title('Total Startup Funding per Year')\n",
    "plt.xlabel('Year')\n",
    "plt.ylabel('Total funding (USD)')\n",
    "plt.xticks(rotation=0)\n",
    "plt.grid(axis='y',linestyle='--',alpha=0.7)\n",
    "plt.tight_layout()\n",
    "plt.show()"
   ]
  },
  {
   "cell_type": "code",
   "execution_count": 46,
   "id": "2b1e73ee-9034-4f56-af0e-5d5d64487267",
   "metadata": {},
   "outputs": [
    {
     "data": {
      "image/png": "[encoded data removed]",
      "text/plain": [
       "<Figure size 1000x600 with 1 Axes>"
      ]
     },
     "metadata": {},
     "output_type": "display_data"
    }
   ],
   "source": [
    "#Second Dataset With Amount\n",
    "\n",
    "funding_by_year = df1.groupby('year')['Amount in USD'].sum()\n",
    "\n",
    "plt.figure(figsize=(10,6))\n",
    "funding_by_year.plot(kind='bar', color='dodgerblue')\n",
    "plt.title('Total Startup Funding per Year')\n",
    "plt.xlabel('Year')\n",
    "plt.ylabel('Total funding (USD)')\n",
    "plt.xticks(rotation=0)\n",
    "plt.grid(axis='y',linestyle='--',alpha=0.7)\n",
    "plt.tight_layout()\n",
    "plt.show()"
   ]
  },
  {
   "cell_type": "markdown",
   "id": "59fa9b5f-f95f-45fe-821d-29160637ffb9",
   "metadata": {},
   "source": [
    "## Monthly Funding"
   ]
  },
  {
   "cell_type": "code",
   "execution_count": 48,
   "id": "da49802a-84f1-46c5-9a85-e0fc7cb1ee02",
   "metadata": {},
   "outputs": [
    {
     "data": {
      "image/png": "[encoded data removed]",
      "text/plain": [
       "<Figure size 1200x600 with 1 Axes>"
      ]
     },
     "metadata": {},
     "output_type": "display_data"
    }
   ],
   "source": [
    "monthly_funding = df1.groupby('month_name')['Amount in USD'].sum()\n",
    "monthly_funding = monthly_funding.loc[['January', 'February', 'March', 'April', 'May', 'June', \n",
    "                                       'July', 'August', 'September', 'October', 'November', 'December']]\n",
    "plt.figure(figsize=(12,6))\n",
    "monthly_funding.plot(kind='bar',color='orange')\n",
    "plt.title('Total Funding by Month')\n",
    "plt.xlabel('Month')\n",
    "plt.ylabel('Total Funding (USD)')\n",
    "plt.xticks(rotation=45)\n",
    "plt.grid(axis='y',linestyle='--',alpha=0.7)\n",
    "plt.tight_layout()\n",
    "plt.show()"
   ]
  },
  {
   "cell_type": "markdown",
   "id": "ba7298c5-4517-4f1e-a6d4-6940e8dfa76c",
   "metadata": {},
   "source": [
    "## Top 10 Industries by Total Funding"
   ]
  },
  {
   "cell_type": "code",
   "execution_count": 50,
   "id": "64979f9a-aa9e-44ea-91a9-9adbbd910396",
   "metadata": {},
   "outputs": [
    {
     "data": {
      "image/png": "[encoded data removed]",
      "text/plain": [
       "<Figure size 1000x500 with 1 Axes>"
      ]
     },
     "metadata": {},
     "output_type": "display_data"
    }
   ],
   "source": [
    "industry_funding = df.groupby('Industry Vertical')['Amount in USD'].sum().sort_values(ascending=False).head(10)\n",
    "\n",
    "industry_funding.plot(kind='bar', figsize=(10,5), color='mediumseagreen')\n",
    "plt.title('Top 10 Industries by Funding')\n",
    "plt.ylabel('Total Funding (USD)')\n",
    "plt.xticks(rotation=45)\n",
    "plt.tight_layout()\n",
    "plt.show()\n"
   ]
  },
  {
   "cell_type": "markdown",
   "id": "101823f8-c4a4-46fc-8a09-081e488665e9",
   "metadata": {},
   "source": [
    "## Top 10 Investors"
   ]
  },
  {
   "cell_type": "code",
   "execution_count": 52,
   "id": "769dc013-ee54-492c-88a1-1a04266c0f02",
   "metadata": {},
   "outputs": [
    {
     "data": {
      "text/plain": [
       "Sr No                0\n",
       "date                 0\n",
       "Startup Name         0\n",
       "Industry Vertical    0\n",
       "SubVertical          0\n",
       "City  Location       0\n",
       "Investors Name       0\n",
       "InvestmentnType      0\n",
       "Amount in USD        0\n",
       "year                 0\n",
       "month                0\n",
       "month_name           0\n",
       "dtype: int64"
      ]
     },
     "execution_count": 52,
     "metadata": {},
     "output_type": "execute_result"
    }
   ],
   "source": [
    "df.isna().sum()"
   ]
  },
  {
   "cell_type": "code",
   "execution_count": 53,
   "id": "f33af344-3c70-4ae7-9996-49754b3dbb0a",
   "metadata": {},
   "outputs": [
    {
     "data": {
      "image/png": "[encoded data removed]",
      "text/plain": [
       "<Figure size 1000x500 with 1 Axes>"
      ]
     },
     "metadata": {},
     "output_type": "display_data"
    }
   ],
   "source": [
    "investor_funding = df.groupby('Investors Name')['Amount in USD'].sum().sort_values(ascending=False).head(10)\n",
    "\n",
    "investor_funding.plot(kind='bar',figsize=(10,5), color='coral')\n",
    "plt.title('Top 10 Investors by Total Funding')\n",
    "plt.ylabel('Funding (USD)')\n",
    "plt.xticks(rotation =45)\n",
    "plt.tight_layout()\n",
    "plt.show()"
   ]
  },
  {
   "cell_type": "markdown",
   "id": "9197fbb4-1d6f-444a-adb2-342de4fa770f",
   "metadata": {},
   "source": [
    "## Funding by City"
   ]
  },
  {
   "cell_type": "code",
   "execution_count": 55,
   "id": "10ec1390-1816-44e4-9c2d-1d5505433f2c",
   "metadata": {},
   "outputs": [
    {
     "data": {
      "image/png": "[encoded data removed]",
      "text/plain": [
       "<Figure size 1000x500 with 1 Axes>"
      ]
     },
     "metadata": {},
     "output_type": "display_data"
    }
   ],
   "source": [
    "city_funding = df.groupby('City  Location')['Amount in USD'].sum().sort_values(ascending=False).head(10)\n",
    "\n",
    "city_funding.plot(kind='bar',figsize=(10,5),color='orchid')\n",
    "plt.title('Top Cities by Total Funding')\n",
    "plt.ylabel('Funding(USD)')\n",
    "plt.xticks(rotation=45)\n",
    "plt.tight_layout()\n",
    "plt.show()"
   ]
  },
  {
   "cell_type": "code",
   "execution_count": 56,
   "id": "276f4e96-3dfc-4577-a7cc-10a7d8bd7909",
   "metadata": {},
   "outputs": [],
   "source": [
    "df.to_csv('cleaned_startup.csv',index=False)"
   ]
  },
  {
   "cell_type": "code",
   "execution_count": 57,
   "id": "38626451-6fdc-4d3b-9f78-454b0a36fe29",
   "metadata": {},
   "outputs": [
    {
     "data": {
      "text/html": [
       "<div>\n",
       "<style scoped>\n",
       "    .dataframe tbody tr th:only-of-type {\n",
       "        vertical-align: middle;\n",
       "    }\n",
       "\n",
       "    .dataframe tbody tr th {\n",
       "        vertical-align: top;\n",
       "    }\n",
       "\n",
       "    .dataframe thead th {\n",
       "        text-align: right;\n",
       "    }\n",
       "</style>\n",
       "<table border=\"1\" class=\"dataframe\">\n",
       "  <thead>\n",
       "    <tr style=\"text-align: right;\">\n",
       "      <th></th>\n",
       "      <th>Sr No</th>\n",
       "      <th>date</th>\n",
       "      <th>Startup Name</th>\n",
       "      <th>Industry Vertical</th>\n",
       "      <th>SubVertical</th>\n",
       "      <th>City  Location</th>\n",
       "      <th>Investors Name</th>\n",
       "      <th>InvestmentnType</th>\n",
       "      <th>Amount in USD</th>\n",
       "      <th>year</th>\n",
       "      <th>month</th>\n",
       "      <th>month_name</th>\n",
       "    </tr>\n",
       "  </thead>\n",
       "  <tbody>\n",
       "    <tr>\n",
       "      <th>0</th>\n",
       "      <td>1</td>\n",
       "      <td>2020-01-09</td>\n",
       "      <td>BYJU’S</td>\n",
       "      <td>E-Tech</td>\n",
       "      <td>E-learning</td>\n",
       "      <td>Bengaluru</td>\n",
       "      <td>Tiger Global Management</td>\n",
       "      <td>Private Equity Round</td>\n",
       "      <td>200000000.0</td>\n",
       "      <td>2020</td>\n",
       "      <td>1</td>\n",
       "      <td>January</td>\n",
       "    </tr>\n",
       "    <tr>\n",
       "      <th>1</th>\n",
       "      <td>2</td>\n",
       "      <td>2020-01-13</td>\n",
       "      <td>Shuttl</td>\n",
       "      <td>Transportation</td>\n",
       "      <td>App based shuttle service</td>\n",
       "      <td>Gurgaon</td>\n",
       "      <td>Susquehanna Growth Equity</td>\n",
       "      <td>Series C</td>\n",
       "      <td>8048394.0</td>\n",
       "      <td>2020</td>\n",
       "      <td>1</td>\n",
       "      <td>January</td>\n",
       "    </tr>\n",
       "    <tr>\n",
       "      <th>2</th>\n",
       "      <td>3</td>\n",
       "      <td>2020-01-09</td>\n",
       "      <td>Mamaearth</td>\n",
       "      <td>E-commerce</td>\n",
       "      <td>Retailer of baby and toddler products</td>\n",
       "      <td>Bengaluru</td>\n",
       "      <td>Sequoia Capital India</td>\n",
       "      <td>Series B</td>\n",
       "      <td>18358860.0</td>\n",
       "      <td>2020</td>\n",
       "      <td>1</td>\n",
       "      <td>January</td>\n",
       "    </tr>\n",
       "    <tr>\n",
       "      <th>3</th>\n",
       "      <td>4</td>\n",
       "      <td>2020-01-02</td>\n",
       "      <td>https://www.wealthbucket.in/</td>\n",
       "      <td>FinTech</td>\n",
       "      <td>Online Investment</td>\n",
       "      <td>New Delhi</td>\n",
       "      <td>Vinod Khatumal</td>\n",
       "      <td>Pre-series A</td>\n",
       "      <td>3000000.0</td>\n",
       "      <td>2020</td>\n",
       "      <td>1</td>\n",
       "      <td>January</td>\n",
       "    </tr>\n",
       "    <tr>\n",
       "      <th>4</th>\n",
       "      <td>5</td>\n",
       "      <td>2020-01-02</td>\n",
       "      <td>Fashor</td>\n",
       "      <td>Fashion and Apparel</td>\n",
       "      <td>Embroiled Clothes For Women</td>\n",
       "      <td>Mumbai</td>\n",
       "      <td>Sprout Venture Partners</td>\n",
       "      <td>Seed Round</td>\n",
       "      <td>1800000.0</td>\n",
       "      <td>2020</td>\n",
       "      <td>1</td>\n",
       "      <td>January</td>\n",
       "    </tr>\n",
       "  </tbody>\n",
       "</table>\n",
       "</div>"
      ],
      "text/plain": [
       "   Sr No       date                  Startup Name    Industry Vertical  \\\n",
       "0      1 2020-01-09                        BYJU’S               E-Tech   \n",
       "1      2 2020-01-13                        Shuttl       Transportation   \n",
       "2      3 2020-01-09                     Mamaearth           E-commerce   \n",
       "3      4 2020-01-02  https://www.wealthbucket.in/              FinTech   \n",
       "4      5 2020-01-02                        Fashor  Fashion and Apparel   \n",
       "\n",
       "                             SubVertical City  Location  \\\n",
       "0                             E-learning      Bengaluru   \n",
       "1              App based shuttle service        Gurgaon   \n",
       "2  Retailer of baby and toddler products      Bengaluru   \n",
       "3                      Online Investment      New Delhi   \n",
       "4            Embroiled Clothes For Women         Mumbai   \n",
       "\n",
       "              Investors Name       InvestmentnType  Amount in USD  year  \\\n",
       "0    Tiger Global Management  Private Equity Round    200000000.0  2020   \n",
       "1  Susquehanna Growth Equity              Series C      8048394.0  2020   \n",
       "2      Sequoia Capital India              Series B     18358860.0  2020   \n",
       "3             Vinod Khatumal          Pre-series A      3000000.0  2020   \n",
       "4    Sprout Venture Partners            Seed Round      1800000.0  2020   \n",
       "\n",
       "   month month_name  \n",
       "0      1    January  \n",
       "1      1    January  \n",
       "2      1    January  \n",
       "3      1    January  \n",
       "4      1    January  "
      ]
     },
     "execution_count": 57,
     "metadata": {},
     "output_type": "execute_result"
    }
   ],
   "source": [
    "df.head()"
   ]
  },
  {
   "cell_type": "code",
   "execution_count": null,
   "id": "a4829a88-a1e5-48fc-867b-3fd64dcd09aa",
   "metadata": {},
   "outputs": [],
   "source": []
  }
 ],
 "metadata": {
  "kernelspec": {
   "display_name": "Python [conda env:base] *",
   "language": "python",
   "name": "conda-base-py"
  },
  "language_info": {
   "codemirror_mode": {
    "name": "ipython",
    "version": 3
   },
   "file_extension": ".py",
   "mimetype": "text/x-python",
   "name": "python",
   "nbconvert_exporter": "python",
   "pygments_lexer": "ipython3",
   "version": "3.12.7"
  }
 },
 "nbformat": 4,
 "nbformat_minor": 5
}
